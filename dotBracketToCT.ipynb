{
 "cells": [
  {
   "cell_type": "code",
   "execution_count": 1,
   "metadata": {
    "collapsed": true
   },
   "outputs": [],
   "source": [
    "#trying to convert dot bracket to CT"
   ]
  },
  {
   "cell_type": "code",
   "execution_count": 17,
   "metadata": {
    "collapsed": true
   },
   "outputs": [],
   "source": [
    "input_db = \"..(((((..(((...)))..)))))...\"\n",
    "sequence = \"UUGGAGUACACAACCUGUACACUCUUUC\""
   ]
  },
  {
   "cell_type": "code",
   "execution_count": 18,
   "metadata": {
    "collapsed": true
   },
   "outputs": [],
   "source": [
    "open_bracket = 0\n",
    "seq_mapping = []\n",
    "stack = []\n",
    "\n"
   ]
  },
  {
   "cell_type": "code",
   "execution_count": 19,
   "metadata": {},
   "outputs": [],
   "source": [
    "for i,(seq,db) in enumerate(zip(sequence, input_db)):\n",
    "    if(db == '('):\n",
    "        stack.append((i+1,seq))\n",
    "    elif(db == ')'):\n",
    "        pop_i, pop_seq = stack.pop()\n",
    "        seq_mapping.append(( seq, i+1, pop_i))\n",
    "        seq_mapping.append(( pop_seq, pop_i,i+1))\n",
    "    else:\n",
    "        seq_mapping.append((seq,i+1,0))"
   ]
  },
  {
   "cell_type": "code",
   "execution_count": 20,
   "metadata": {},
   "outputs": [
    {
     "data": {
      "text/plain": [
       "[('U', 1, 0),\n",
       " ('U', 2, 0),\n",
       " ('A', 8, 0),\n",
       " ('C', 9, 0),\n",
       " ('A', 13, 0),\n",
       " ('C', 14, 0),\n",
       " ('C', 15, 0),\n",
       " ('U', 16, 12),\n",
       " ('A', 12, 16),\n",
       " ('G', 17, 11),\n",
       " ('C', 11, 17),\n",
       " ('U', 18, 10),\n",
       " ('A', 10, 18),\n",
       " ('A', 19, 0),\n",
       " ('C', 20, 0),\n",
       " ('A', 21, 7),\n",
       " ('U', 7, 21),\n",
       " ('C', 22, 6),\n",
       " ('G', 6, 22),\n",
       " ('U', 23, 5),\n",
       " ('A', 5, 23),\n",
       " ('C', 24, 4),\n",
       " ('G', 4, 24),\n",
       " ('U', 25, 3),\n",
       " ('G', 3, 25),\n",
       " ('U', 26, 0),\n",
       " ('U', 27, 0),\n",
       " ('C', 28, 0)]"
      ]
     },
     "execution_count": 20,
     "metadata": {},
     "output_type": "execute_result"
    }
   ],
   "source": [
    "seq_mapping"
   ]
  },
  {
   "cell_type": "code",
   "execution_count": 21,
   "metadata": {
    "collapsed": true
   },
   "outputs": [],
   "source": [
    "seq_mapping.sort(key=lambda x: x[1])\n"
   ]
  },
  {
   "cell_type": "code",
   "execution_count": 22,
   "metadata": {},
   "outputs": [
    {
     "data": {
      "text/plain": [
       "[('U', 1, 0),\n",
       " ('U', 2, 0),\n",
       " ('G', 3, 25),\n",
       " ('G', 4, 24),\n",
       " ('A', 5, 23),\n",
       " ('G', 6, 22),\n",
       " ('U', 7, 21),\n",
       " ('A', 8, 0),\n",
       " ('C', 9, 0),\n",
       " ('A', 10, 18),\n",
       " ('C', 11, 17),\n",
       " ('A', 12, 16),\n",
       " ('A', 13, 0),\n",
       " ('C', 14, 0),\n",
       " ('C', 15, 0),\n",
       " ('U', 16, 12),\n",
       " ('G', 17, 11),\n",
       " ('U', 18, 10),\n",
       " ('A', 19, 0),\n",
       " ('C', 20, 0),\n",
       " ('A', 21, 7),\n",
       " ('C', 22, 6),\n",
       " ('U', 23, 5),\n",
       " ('C', 24, 4),\n",
       " ('U', 25, 3),\n",
       " ('U', 26, 0),\n",
       " ('U', 27, 0),\n",
       " ('C', 28, 0)]"
      ]
     },
     "execution_count": 22,
     "metadata": {},
     "output_type": "execute_result"
    }
   ],
   "source": [
    "seq_mapping"
   ]
  },
  {
   "cell_type": "code",
   "execution_count": null,
   "metadata": {
    "collapsed": true
   },
   "outputs": [],
   "source": []
  }
 ],
 "metadata": {
  "kernelspec": {
   "display_name": "Python 3",
   "language": "python",
   "name": "python3"
  },
  "language_info": {
   "codemirror_mode": {
    "name": "ipython",
    "version": 3
   },
   "file_extension": ".py",
   "mimetype": "text/x-python",
   "name": "python",
   "nbconvert_exporter": "python",
   "pygments_lexer": "ipython3",
   "version": "3.6.1"
  }
 },
 "nbformat": 4,
 "nbformat_minor": 2
}
