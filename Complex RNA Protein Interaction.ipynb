{
 "cells": [
  {
   "cell_type": "code",
   "execution_count": 14,
   "metadata": {},
   "outputs": [
    {
     "data": {
      "text/plain": [
       "'Read a single xml file.\\nGenerate lists of asym_ids, seq_ids, comp_ids, atom_ids.\\nClassify whether Chain is RNA or Protein chain and generate corresponding lists.\\nTake in a RNA Chain Asym_id and a protein chain asym_id.\\nFind interaction of each compound of RNA chain with each compound of protein chain.\\nThis computation will be done at atomic level.\\nCompress this by taking mean of the above matrix.\\nGenerate a matrix that shows the interaction of one Protein chain with one RNA chain\\nDo so for each pair of RNA chain asym_id and protein chain asym_id of the complex.'"
      ]
     },
     "execution_count": 14,
     "metadata": {},
     "output_type": "execute_result"
    }
   ],
   "source": [
    "'''Read a single xml file.\n",
    "Generate lists of asym_ids, seq_ids, comp_ids, atom_ids.\n",
    "Classify whether Chain is RNA or Protein chain and generate corresponding lists.\n",
    "Take in a RNA Chain Asym_id and a protein chain asym_id.\n",
    "Find interaction of each compound of RNA chain with each compound of protein chain.\n",
    "This computation will be done at atomic level.\n",
    "Compress this by taking mean of the above matrix.\n",
    "Generate a matrix that shows the interaction of one Protein chain with one RNA chain\n",
    "Do so for each pair of RNA chain asym_id and protein chain asym_id of the complex.'''"
   ]
  },
  {
   "cell_type": "code",
   "execution_count": 15,
   "metadata": {
    "collapsed": true
   },
   "outputs": [],
   "source": [
    "#importing necessary libraries\n",
    "\n",
    "from lxml import etree #Using the lxml library\n",
    "import numpy as np #For creating ndarrays\n",
    "import scipy # For finding distances\n",
    "import pickle # For saving interaction dict on disc\n",
    "from scipy import spatial # For finding distances\n",
    "from collections import namedtuple # For creating a custom tuple of asym_id, seq_id and comp_id as key"
   ]
  },
  {
   "cell_type": "code",
   "execution_count": 16,
   "metadata": {
    "collapsed": true
   },
   "outputs": [],
   "source": [
    "# function takes in the filename of the pdb file as a parameter and returns lists correspoding to x,y,z co-ordinates\n",
    "# asymId, atomId, CompoundId and SequenceId along with number of atoms in the complex called indexes\n",
    "# Using auth_versions\n",
    "\n",
    "def readPdbxml(filename):\n",
    "    pdbx = etree.parse(filename) #Directly read the xml file\n",
    "    root = pdbx.getroot() #Get the root and use it as a reference for further operations.\n",
    "    \n",
    "    #finding at what index normal ATOMs end and poly sequences start coming\n",
    "    \n",
    "    indexes = len(root[0]) # Total valid ATOM ids \n",
    "    \n",
    "    x_coord = []\n",
    "    y_coord = []\n",
    "    z_coord = []\n",
    "    asym_id = []\n",
    "    atom_id = []\n",
    "    comp_id = []\n",
    "    seq_id = []\n",
    "    \n",
    "    for each_i in range(indexes):\n",
    "        x_coord.append(float(root[0][each_i][1].text))\n",
    "        y_coord.append(float(root[0][each_i][2].text))\n",
    "        z_coord.append(float(root[0][each_i][3].text))\n",
    "        asym_id.append(root[0][each_i][4].text)\n",
    "        atom_id.append(root[0][each_i][5].text)\n",
    "        comp_id.append(root[0][each_i][6].text)\n",
    "        seq_id.append(root[0][each_i][7].text)\n",
    "        \n",
    "    return x_coord,y_coord,z_coord,asym_id,atom_id,comp_id,seq_id,indexes\n",
    "    \n",
    "    "
   ]
  },
  {
   "cell_type": "code",
   "execution_count": 17,
   "metadata": {
    "collapsed": true
   },
   "outputs": [],
   "source": [
    "# function to create a dictionary that has seq_id as key and a list of lists as values\n",
    "# where each list has 3 values,ie, x,y,z co-ordinate\n",
    "\n",
    "def seq_dict(seq_id, x_coord, y_coord, z_coord,indexes):\n",
    "    \n",
    "    seq_data = {}\n",
    "    \n",
    "    for each_index in range(indexes):\n",
    "      \n",
    "        level1_key = namedtuple(\"level1_key\",[\"asym_id\", \"seq_id\", \"comp_id\"])\n",
    "        key = level1_key(asym_id[each_index],int(seq_id[each_index]),comp_id[each_index])\n",
    "        location = np.asarray([x_coord[each_index], y_coord[each_index], z_coord[each_index]])\n",
    "        seq_data.setdefault(key, []).append(location)\n",
    "    \n",
    "    return seq_data\n",
    "    "
   ]
  },
  {
   "cell_type": "code",
   "execution_count": 18,
   "metadata": {
    "collapsed": true
   },
   "outputs": [],
   "source": [
    "# Function takes in a dict with list of numpy arrays as values and the level1 key as key and returns \n",
    "# a dict with n*3 numpy arrays ( no more lists) as values and same keys\n",
    "\n",
    "def lists_to_ndarrays(seq_data):\n",
    "\n",
    "    dict_ndarr_seq = {}\n",
    "\n",
    "    for key in seq_data:\n",
    "        #store as nd array\n",
    "        value = np.array(seq_data[key])\n",
    "        dict_ndarr_seq[key] = value\n",
    "    \n",
    "    return dict_ndarr_seq"
   ]
  },
  {
   "cell_type": "code",
   "execution_count": 19,
   "metadata": {
    "collapsed": true
   },
   "outputs": [],
   "source": [
    "''' Parses through all the asym_ids and classify them as RNA or Protein\n",
    "chains. Returns two lists. One having asym_ids of RNA chains other of Protein chains'''\n",
    "\n",
    "\n",
    "def rna_or_protein(asym_id, comp_id):\n",
    "    \n",
    "    rna_compound = ['A','U','G','C'] # If the asym_id is a rna, all its compounds must be one of these\n",
    "    unique_asym_ids = set(asym_id) # Gives the unique asym_ids in the complex\n",
    "    \n",
    "    rna_chain = [] # Initialising empty list that will later hold all asym_ids that are RNA chains\n",
    "    protein_chain = [] # Initialising empty list that will later hold all asym_ids that are protein chains\n",
    "\n",
    "    for each_asym in unique_asym_ids:\n",
    "    \n",
    "        flag = 0; # the variable detects if even one compound is not one of rna and helps classify it as protein\n",
    "    \n",
    "        for asym,each_comp in zip(asym_id,comp_id):\n",
    "        \n",
    "            if(each_asym == asym):\n",
    "            \n",
    "                if(each_comp not in rna_compound):\n",
    "                \n",
    "                    flag = 1\n",
    "                    break\n",
    "        \n",
    "        if(flag):\n",
    "        \n",
    "            protein_chain.append(each_asym)\n",
    "        \n",
    "        else:\n",
    "        \n",
    "            rna_chain.append(each_asym)\n",
    "        \n",
    "\n",
    "    return protein_chain, rna_chain\n",
    "    "
   ]
  },
  {
   "cell_type": "code",
   "execution_count": 20,
   "metadata": {
    "collapsed": true
   },
   "outputs": [],
   "source": [
    "'''Function removes duplicate values for same key from asym_id dict. Helper function'''\n",
    "\n",
    "def remove_dup(asym_id_dict):\n",
    "    \n",
    "    dict_comp_in_asym = {}\n",
    "    \n",
    "    for key in asym_id_dict:\n",
    "        \n",
    "        unique = set(asym_id_dict[key])\n",
    "        unique = tuple(unique)\n",
    "        dict_comp_in_asym.setdefault(key, []).append(unique)\n",
    "        \n",
    "    return dict_comp_in_asym"
   ]
  },
  {
   "cell_type": "code",
   "execution_count": 21,
   "metadata": {
    "collapsed": true
   },
   "outputs": [],
   "source": [
    "'''Function creates a dict that has asym_id as key and a tuple of (seq_id, comp_id) as value'''\n",
    "\n",
    "def construct_asym_id_dict(asym_id, seq_id, comp_id):\n",
    "    \n",
    "    asym_id_dict = {}\n",
    "    \n",
    "    for each_index in range(indexes):\n",
    "      \n",
    "        key = asym_id[each_index]\n",
    "        val = (seq_id[each_index], comp_id[each_index])\n",
    "        asym_id_dict.setdefault(key, []).append(val)\n",
    "        \n",
    "        dict_comp_in_asym = remove_dup(asym_id_dict)\n",
    "    \n",
    "    return dict_comp_in_asym\n",
    "    "
   ]
  },
  {
   "cell_type": "code",
   "execution_count": 22,
   "metadata": {
    "collapsed": true
   },
   "outputs": [],
   "source": [
    "'''Function takes in two sets of (asym_id, seq_id, comp_id) and finds pairwise distance between each atom.\n",
    "   Also, takes in the dictionary that has atom co-ordinates'''\n",
    "\n",
    "def pairwise_inter_compound(key1, key2):\n",
    "    \n",
    "    compound_interaction = scipy.spatial.distance.cdist(dict_ndarr_seq[key1], dict_ndarr_seq[key2],'euclidean')\n",
    "    \n",
    "    return compound_interaction"
   ]
  },
  {
   "cell_type": "code",
   "execution_count": 23,
   "metadata": {
    "collapsed": true
   },
   "outputs": [],
   "source": [
    "'''Function takes in asym_id of a protein_chain(m compounds), asym_id of a rna_chain(n compounds) and \n",
    "also the pre-computed dictionary that has asym_id as key and seq_id and comp_id as value. It then returns\n",
    "m*n matrices where each matrix is interaction between one compound of protein_chain with one compound of\n",
    "rna_chain'''\n",
    "\n",
    "def pairwise_inter_chain(rna_asym_id, protein_asym_id, dict_comp_in_asym):\n",
    "    \n",
    "    #need to construct appropraite keys to send to pariwsie_inter_compound\n",
    "    \n",
    "    #create a dict with asym_id as key and seq_id and comp_id as value\n",
    "    \n",
    "    compounds_in_rna = dict_comp_in_asym[rna_asym_id]\n",
    "    compounds_in_protein = dict_comp_in_asym[protein_asym_id]\n",
    "    \n",
    "    chain_interaction = {}\n",
    "    \n",
    "    for nesting in  compounds_in_rna:\n",
    "        \n",
    "        for each_rna_compound in nesting:\n",
    "        \n",
    "        \n",
    "            key1 = (rna_asym_id, int(each_rna_compound[0]), each_rna_compound[1])\n",
    "        \n",
    "            for nesting_2 in compounds_in_protein:\n",
    "                \n",
    "                for each_protein_compound in nesting_2:\n",
    "            \n",
    "                    key2 = (protein_asym_id, int(each_protein_compound[0]), each_protein_compound[1])\n",
    "            \n",
    "                    compound_interaction = pairwise_inter_compound(key1,key2)\n",
    "            \n",
    "                    level2_key = namedtuple(\"level2_key\",[\"rna_comp\", \"protein_comp\"])\n",
    "                    key = level2_key(key1,key2)\n",
    "            \n",
    "                    chain_interaction.setdefault(key, []).append(compound_interaction)\n",
    "            \n",
    "    return chain_interaction\n",
    "            \n",
    "    "
   ]
  },
  {
   "cell_type": "code",
   "execution_count": 24,
   "metadata": {
    "collapsed": true
   },
   "outputs": [],
   "source": [
    "'''Function takes in the dense chain_interaction matrix. It finds the mean of the matrix of interaction between\n",
    "a pair of compounds. Then returns a mean chain interaction dict that is actually a matrix of dimensions\n",
    "Number of compounds in RNA chain * Number of compounds in Protein chain'''\n",
    "\n",
    "def chain_interaction_compression(chain_interaction):\n",
    "    \n",
    "    mean_chain_interaction = {}\n",
    "\n",
    "    for each_compound_pair in chain_interaction:\n",
    "    \n",
    "        mean_chain_interaction[each_compound_pair] = np.mean(chain_interaction[each_compound_pair][0])\n",
    "        \n",
    "    return mean_chain_interaction"
   ]
  },
  {
   "cell_type": "code",
   "execution_count": 25,
   "metadata": {
    "collapsed": true
   },
   "outputs": [],
   "source": [
    "# to generate mean_chain_interaction for each RNA chain and protein chain pair\n",
    "\n",
    "def construct_complex_rna_protein_interaction(rna_chain, protein_chain, dict_comp_in_asym):\n",
    "    \n",
    "    complex_rna_protein_interaction = {}\n",
    "    \n",
    "    for each_rna_chain in rna_chain:\n",
    "        \n",
    "        for each_protein_chain in protein_chain:\n",
    "            \n",
    "            chain_interaction = pairwise_inter_chain(each_rna_chain, each_protein_chain, dict_comp_in_asym)\n",
    "            mean_chain_interaction = chain_interaction_compression(chain_interaction)\n",
    "            \n",
    "            key = (each_rna_chain, each_protein_chain)\n",
    "            value = mean_chain_interaction\n",
    "            \n",
    "            complex_rna_protein_interaction[key] = value\n",
    "            \n",
    "    return complex_rna_protein_interaction"
   ]
  },
  {
   "cell_type": "code",
   "execution_count": 12,
   "metadata": {},
   "outputs": [
    {
     "name": "stdout",
     "output_type": "stream",
     "text": [
      "/home/arrayslayer/Documents/Acads/2-2/SOP/dataset\n"
     ]
    }
   ],
   "source": [
    "cd dataset"
   ]
  },
  {
   "cell_type": "code",
   "execution_count": 26,
   "metadata": {
    "collapsed": true
   },
   "outputs": [],
   "source": [
    "# Function calls\n",
    "\n",
    "x_coord,y_coord,z_coord,asym_id,atom_id,comp_id,seq_id,indexes = readPdbxml('1a9n.xml')\n",
    "seq_data = seq_dict(seq_id,x_coord,y_coord,z_coord,indexes)\n",
    "dict_ndarr_seq = lists_to_ndarrays(seq_data)\n",
    "dict_comp_in_asym = construct_asym_id_dict(asym_id, seq_id, comp_id)\n",
    "\n",
    "\n",
    "protein_chain, rna_chain = rna_or_protein(asym_id,comp_id)\n",
    "\n",
    "complex_rna_protein_interaction = construct_complex_rna_protein_interaction(rna_chain, protein_chain, dict_comp_in_asym)"
   ]
  },
  {
   "cell_type": "code",
   "execution_count": null,
   "metadata": {
    "collapsed": true
   },
   "outputs": [],
   "source": []
  }
 ],
 "metadata": {
  "kernelspec": {
   "display_name": "Python 3",
   "language": "python",
   "name": "python3"
  },
  "language_info": {
   "codemirror_mode": {
    "name": "ipython",
    "version": 3
   },
   "file_extension": ".py",
   "mimetype": "text/x-python",
   "name": "python",
   "nbconvert_exporter": "python",
   "pygments_lexer": "ipython3",
   "version": "3.6.3"
  }
 },
 "nbformat": 4,
 "nbformat_minor": 2
}
