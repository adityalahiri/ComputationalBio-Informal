{
 "cells": [
  {
   "cell_type": "code",
   "execution_count": 1,
   "metadata": {},
   "outputs": [
    {
     "data": {
      "text/plain": [
       "'One that has all strings bases. The other with corresponding dot bracket notation'"
      ]
     },
     "execution_count": 1,
     "metadata": {},
     "output_type": "execute_result"
    }
   ],
   "source": [
    "# Aim to get two lists.\n",
    "'''One that has all strings bases. The other with corresponding dot bracket notation'''"
   ]
  },
  {
   "cell_type": "code",
   "execution_count": 6,
   "metadata": {
    "collapsed": true
   },
   "outputs": [],
   "source": [
    "# Declaring lists and importing os\n",
    "\n",
    "import os\n",
    "\n",
    "allSequences = []\n",
    "allDotBrackets = []\n",
    "\n",
    "cd Output_sec_structures/"
   ]
  },
  {
   "cell_type": "code",
   "execution_count": 7,
   "metadata": {},
   "outputs": [],
   "source": [
    "directory_in_str = \"/home/arrayslayer/Documents/Acads/SOP/Output_sec_structures\"\n",
    "\n",
    "directory = os.fsencode(directory_in_str)\n",
    "\n",
    "for file in os.listdir(directory):\n",
    "    filename = os.fsdecode(file)\n",
    "    file = open(filename,\"r\")\n",
    "    allLines = file.readlines()\n",
    "    allSequences.append(allLines[1])\n",
    "    allDotBrackets.append(allLines[2])\n",
    "        \n",
    "        \n",
    "assert len(allSequences) == len(allDotBrackets)"
   ]
  },
  {
   "cell_type": "code",
   "execution_count": 15,
   "metadata": {},
   "outputs": [
    {
     "data": {
      "text/plain": [
       "2904"
      ]
     },
     "execution_count": 15,
     "metadata": {},
     "output_type": "execute_result"
    }
   ],
   "source": [
    "#gives the length of maximum continous sequence text file we got\n",
    "\n",
    "max(len(i) for i in allSequences)"
   ]
  },
  {
   "cell_type": "code",
   "execution_count": null,
   "metadata": {
    "collapsed": true
   },
   "outputs": [],
   "source": []
  }
 ],
 "metadata": {
  "kernelspec": {
   "display_name": "Python 3",
   "language": "python",
   "name": "python3"
  },
  "language_info": {
   "codemirror_mode": {
    "name": "ipython",
    "version": 3
   },
   "file_extension": ".py",
   "mimetype": "text/x-python",
   "name": "python",
   "nbconvert_exporter": "python",
   "pygments_lexer": "ipython3",
   "version": "3.6.1"
  }
 },
 "nbformat": 4,
 "nbformat_minor": 2
}
