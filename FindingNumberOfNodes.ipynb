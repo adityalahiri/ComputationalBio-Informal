{
 "cells": [
  {
   "cell_type": "code",
   "execution_count": 1,
   "metadata": {
    "collapsed": true
   },
   "outputs": [],
   "source": [
    "#test1"
   ]
  },
  {
   "cell_type": "code",
   "execution_count": 30,
   "metadata": {
    "collapsed": true
   },
   "outputs": [],
   "source": [
    "input = \"(((...(((...)))...)))\"\n",
    "#input = \".(((((((((....(((....(((....)))....))).)))))))))\"\n",
    "#input = \".(((((((((....(((....(((....)))....))).)))))))))\""
   ]
  },
  {
   "cell_type": "code",
   "execution_count": 31,
   "metadata": {
    "collapsed": true
   },
   "outputs": [],
   "source": [
    "open_bracket_seq = 0 \n",
    "\n",
    "std_node = 0\n",
    "junction_node = 0"
   ]
  },
  {
   "cell_type": "code",
   "execution_count": 32,
   "metadata": {},
   "outputs": [
    {
     "name": "stdout",
     "output_type": "stream",
     "text": [
      "3\n",
      "2\n",
      "0\n"
     ]
    }
   ],
   "source": [
    "for i in range(1, len(input)):\n",
    "    if(input[i] == '(' and input[i-1] != '.'):\n",
    "        if(input[i+1] != '('):\n",
    "            std_node = std_node + 1\n",
    "            open_bracket_seq = open_bracket_seq + 1\n",
    "            \n",
    "    if(input[i] == '.' and i<len(input)-1 and input[i+1] == '(' and open_bracket_seq!=0):\n",
    "        junction_node = junction_node + 1;\n",
    "        \n",
    "    if(input[i] == ')' and input[i-1] != ')'):\n",
    "        open_bracket_seq = open_bracket_seq -1\n",
    "        \n",
    "print(std_node)\n",
    "print(junction_node)\n",
    "print(open_bracket_seq)"
   ]
  },
  {
   "cell_type": "code",
   "execution_count": null,
   "metadata": {
    "collapsed": true
   },
   "outputs": [],
   "source": []
  }
 ],
 "metadata": {
  "kernelspec": {
   "display_name": "Python 3",
   "language": "python",
   "name": "python3"
  },
  "language_info": {
   "codemirror_mode": {
    "name": "ipython",
    "version": 3
   },
   "file_extension": ".py",
   "mimetype": "text/x-python",
   "name": "python",
   "nbconvert_exporter": "python",
   "pygments_lexer": "ipython3",
   "version": "3.6.1"
  }
 },
 "nbformat": 4,
 "nbformat_minor": 2
}
