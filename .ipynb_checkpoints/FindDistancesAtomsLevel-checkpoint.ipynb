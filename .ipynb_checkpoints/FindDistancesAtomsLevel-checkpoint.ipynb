{
 "cells": [
  {
   "cell_type": "code",
   "execution_count": 54,
   "metadata": {},
   "outputs": [
    {
     "data": {
      "text/plain": [
       "'Aim to find distances between all pairs of atoms given a fixed asym_id, seq_id and comp_id.\\nFirst level of computation. And then return the distance between closest pair of atoms in it.'"
      ]
     },
     "execution_count": 54,
     "metadata": {},
     "output_type": "execute_result"
    }
   ],
   "source": [
    "'''Aim to find distances between all pairs of atoms given a fixed asym_id, seq_id and comp_id.\n",
    "First level of computation. And then return the distance between closest pair of atoms in it.'''"
   ]
  },
  {
   "cell_type": "code",
   "execution_count": 55,
   "metadata": {
    "scrolled": true
   },
   "outputs": [
    {
     "data": {
      "text/plain": [
       "'To read a single xml file and organise all the required elements of each atom in separate lists\\nand finally create a dictionary that has seq id as key and a corresponding (n_atom_in_seq,3) ndarray as value'"
      ]
     },
     "execution_count": 55,
     "metadata": {},
     "output_type": "execute_result"
    }
   ],
   "source": [
    "'''To read a single xml file and organise all the required elements of each atom in separate lists\n",
    "and finally create a dictionary that has seq id as key and a corresponding (n_atom_in_seq,3) ndarray as value'''"
   ]
  },
  {
   "cell_type": "code",
   "execution_count": 9,
   "metadata": {
    "collapsed": true
   },
   "outputs": [],
   "source": [
    "#importing necessary libraries\n",
    "\n",
    "from lxml import etree #Using the lxml library\n",
    "import numpy as np #For creating ndarrays\n",
    "import scipy # For finding distances\n",
    "from scipy import spatial # For finding distances\n",
    "from collections import namedtuple # For creating a custom tuple of asym_id, seq_id and comp_id as key"
   ]
  },
  {
   "cell_type": "code",
   "execution_count": 10,
   "metadata": {
    "collapsed": true
   },
   "outputs": [],
   "source": [
    "# function takes in the filename of the pdb file as a parameter and returns lists correspoding to x,y,z co-ordinates\n",
    "# asymId, atomId, CompoundId and SequenceId along with number of atoms in the complex called indexes\n",
    "# Using auth_versions\n",
    "\n",
    "def readPdbxml(filename):\n",
    "    pdbx = etree.parse(filename) #Directly read the xml file\n",
    "    root = pdbx.getroot() #Get the root and use it as a reference for further operations.\n",
    "    \n",
    "    #finding at what index normal ATOMs end and poly sequences start coming\n",
    "    \n",
    "    indexes = len(root[0]) # Total valid ATOM ids \n",
    "    \n",
    "    x_coord = []\n",
    "    y_coord = []\n",
    "    z_coord = []\n",
    "    asym_id = []\n",
    "    atom_id = []\n",
    "    comp_id = []\n",
    "    seq_id = []\n",
    "    \n",
    "    for each_i in range(indexes):\n",
    "        x_coord.append(float(root[0][each_i][1].text))\n",
    "        y_coord.append(float(root[0][each_i][2].text))\n",
    "        z_coord.append(float(root[0][each_i][3].text))\n",
    "        asym_id.append(root[0][each_i][4].text)\n",
    "        atom_id.append(root[0][each_i][5].text)\n",
    "        comp_id.append(root[0][each_i][6].text)\n",
    "        seq_id.append(root[0][each_i][7].text)\n",
    "        \n",
    "    return x_coord,y_coord,z_coord,asym_id,atom_id,comp_id,seq_id,indexes\n",
    "    \n",
    "    "
   ]
  },
  {
   "cell_type": "code",
   "execution_count": 11,
   "metadata": {
    "collapsed": true
   },
   "outputs": [],
   "source": [
    "# function to create a dictionary that has seq_id as key and a list of lists as values\n",
    "# where each list has 3 values,ie, x,y,z co-ordinate\n",
    "\n",
    "def seq_dict(seq_id, x_coord, y_coord, z_coord,indexes):\n",
    "    \n",
    "    seq_data = {}\n",
    "    \n",
    "    for each_index in range(indexes):\n",
    "      \n",
    "        level1_key = namedtuple(\"level1_key\",[\"asym_id\", \"seq_id\", \"comp_id\"])\n",
    "        key = level1_key(asym_id[each_index],int(seq_id[each_index]),comp_id[each_index])\n",
    "        location = np.asarray([x_coord[each_index], y_coord[each_index], z_coord[each_index]])\n",
    "        seq_data.setdefault(key, []).append(location)\n",
    "    \n",
    "    return seq_data\n",
    "    "
   ]
  },
  {
   "cell_type": "code",
   "execution_count": 12,
   "metadata": {
    "collapsed": true
   },
   "outputs": [],
   "source": [
    "# Function takes in a dict with list of numpy arrays as values and the level1 key as key and returns \n",
    "# a dict with n*3 numpy arrays ( no more lists) as values and same keys\n",
    "\n",
    "def lists_to_ndarrays(seq_data):\n",
    "\n",
    "    dict_ndarr_seq = {}\n",
    "\n",
    "    for key in seq_data:\n",
    "        #store as nd array\n",
    "        value = np.array(seq_data[key])\n",
    "        dict_ndarr_seq[key] = value\n",
    "    \n",
    "    return dict_ndarr_seq"
   ]
  },
  {
   "cell_type": "code",
   "execution_count": 13,
   "metadata": {
    "collapsed": true
   },
   "outputs": [],
   "source": [
    "# Do this min value thing for all compounds by iterating over all keys in a loop\n",
    "\n",
    "'''Functions takes in dict_ndarr_seq as input and returns a dict that has the level1_key as key and the diatance\n",
    "between closest pair of atoms in the given compound of given seq_id and given asym_id  as value'''\n",
    "\n",
    "def closest_atoms_dict(dict_ndarr_seq):\n",
    "    \n",
    "    dict_min_pairwise_atom_dist = {}\n",
    "    \n",
    "    for each_key in dict_ndarr_seq:\n",
    "        \n",
    "        interaction = scipy.spatial.distance.cdist(dict_ndarr_seq[each_key], dict_ndarr_seq[each_key],'euclidean')\n",
    "        closest_atomic_pair = np.min(interaction[np.nonzero(interaction)])\n",
    "        \n",
    "        dict_min_pairwise_atom_dist.update({each_key:closest_atomic_pair})\n",
    "        \n",
    "    return dict_min_pairwise_atom_dist\n"
   ]
  },
  {
   "cell_type": "code",
   "execution_count": 14,
   "metadata": {},
   "outputs": [
    {
     "name": "stdout",
     "output_type": "stream",
     "text": [
      "[Errno 2] No such file or directory: 'dataset'\n",
      "/home/arrayslayer/Documents/Acads/2-2/SOP/FinalScripts\n"
     ]
    }
   ],
   "source": [
    "cd dataset"
   ]
  },
  {
   "cell_type": "code",
   "execution_count": 15,
   "metadata": {},
   "outputs": [
    {
     "ename": "OSError",
     "evalue": "Error reading file '1a9n.xml': failed to load external entity \"1a9n.xml\"",
     "output_type": "error",
     "traceback": [
      "\u001b[0;31m---------------------------------------------------------------------------\u001b[0m",
      "\u001b[0;31mOSError\u001b[0m                                   Traceback (most recent call last)",
      "\u001b[0;32m<ipython-input-15-0a426e387e97>\u001b[0m in \u001b[0;36m<module>\u001b[0;34m()\u001b[0m\n\u001b[1;32m      1\u001b[0m \u001b[0;31m# Function calls\u001b[0m\u001b[0;34m\u001b[0m\u001b[0;34m\u001b[0m\u001b[0m\n\u001b[1;32m      2\u001b[0m \u001b[0;34m\u001b[0m\u001b[0m\n\u001b[0;32m----> 3\u001b[0;31m \u001b[0mx_coord\u001b[0m\u001b[0;34m,\u001b[0m\u001b[0my_coord\u001b[0m\u001b[0;34m,\u001b[0m\u001b[0mz_coord\u001b[0m\u001b[0;34m,\u001b[0m\u001b[0masym_id\u001b[0m\u001b[0;34m,\u001b[0m\u001b[0matom_id\u001b[0m\u001b[0;34m,\u001b[0m\u001b[0mcomp_id\u001b[0m\u001b[0;34m,\u001b[0m\u001b[0mseq_id\u001b[0m\u001b[0;34m,\u001b[0m\u001b[0mindexes\u001b[0m \u001b[0;34m=\u001b[0m \u001b[0mreadPdbxml\u001b[0m\u001b[0;34m(\u001b[0m\u001b[0;34m'1a9n.xml'\u001b[0m\u001b[0;34m)\u001b[0m\u001b[0;34m\u001b[0m\u001b[0m\n\u001b[0m\u001b[1;32m      4\u001b[0m \u001b[0mseq_data\u001b[0m \u001b[0;34m=\u001b[0m \u001b[0mseq_dict\u001b[0m\u001b[0;34m(\u001b[0m\u001b[0mseq_id\u001b[0m\u001b[0;34m,\u001b[0m\u001b[0mx_coord\u001b[0m\u001b[0;34m,\u001b[0m\u001b[0my_coord\u001b[0m\u001b[0;34m,\u001b[0m\u001b[0mz_coord\u001b[0m\u001b[0;34m,\u001b[0m\u001b[0mindexes\u001b[0m\u001b[0;34m)\u001b[0m\u001b[0;34m\u001b[0m\u001b[0m\n\u001b[1;32m      5\u001b[0m \u001b[0mdict_ndarr_seq\u001b[0m \u001b[0;34m=\u001b[0m \u001b[0mlists_to_ndarrays\u001b[0m\u001b[0;34m(\u001b[0m\u001b[0mseq_data\u001b[0m\u001b[0;34m)\u001b[0m\u001b[0;34m\u001b[0m\u001b[0m\n",
      "\u001b[0;32m<ipython-input-10-ca5a4c1c4f75>\u001b[0m in \u001b[0;36mreadPdbxml\u001b[0;34m(filename)\u001b[0m\n\u001b[1;32m      4\u001b[0m \u001b[0;34m\u001b[0m\u001b[0m\n\u001b[1;32m      5\u001b[0m \u001b[0;32mdef\u001b[0m \u001b[0mreadPdbxml\u001b[0m\u001b[0;34m(\u001b[0m\u001b[0mfilename\u001b[0m\u001b[0;34m)\u001b[0m\u001b[0;34m:\u001b[0m\u001b[0;34m\u001b[0m\u001b[0m\n\u001b[0;32m----> 6\u001b[0;31m     \u001b[0mpdbx\u001b[0m \u001b[0;34m=\u001b[0m \u001b[0metree\u001b[0m\u001b[0;34m.\u001b[0m\u001b[0mparse\u001b[0m\u001b[0;34m(\u001b[0m\u001b[0mfilename\u001b[0m\u001b[0;34m)\u001b[0m \u001b[0;31m#Directly read the xml file\u001b[0m\u001b[0;34m\u001b[0m\u001b[0m\n\u001b[0m\u001b[1;32m      7\u001b[0m     \u001b[0mroot\u001b[0m \u001b[0;34m=\u001b[0m \u001b[0mpdbx\u001b[0m\u001b[0;34m.\u001b[0m\u001b[0mgetroot\u001b[0m\u001b[0;34m(\u001b[0m\u001b[0;34m)\u001b[0m \u001b[0;31m#Get the root and use it as a reference for further operations.\u001b[0m\u001b[0;34m\u001b[0m\u001b[0m\n\u001b[1;32m      8\u001b[0m \u001b[0;34m\u001b[0m\u001b[0m\n",
      "\u001b[0;32msrc/lxml/etree.pyx\u001b[0m in \u001b[0;36mlxml.etree.parse (src/lxml/etree.c:83170)\u001b[0;34m()\u001b[0m\n",
      "\u001b[0;32msrc/lxml/parser.pxi\u001b[0m in \u001b[0;36mlxml.etree._parseDocument (src/lxml/etree.c:120742)\u001b[0;34m()\u001b[0m\n",
      "\u001b[0;32msrc/lxml/parser.pxi\u001b[0m in \u001b[0;36mlxml.etree._parseDocumentFromURL (src/lxml/etree.c:121089)\u001b[0;34m()\u001b[0m\n",
      "\u001b[0;32msrc/lxml/parser.pxi\u001b[0m in \u001b[0;36mlxml.etree._parseDocFromFile (src/lxml/etree.c:119997)\u001b[0;34m()\u001b[0m\n",
      "\u001b[0;32msrc/lxml/parser.pxi\u001b[0m in \u001b[0;36mlxml.etree._BaseParser._parseDocFromFile (src/lxml/etree.c:114546)\u001b[0;34m()\u001b[0m\n",
      "\u001b[0;32msrc/lxml/parser.pxi\u001b[0m in \u001b[0;36mlxml.etree._ParserContext._handleParseResultDoc (src/lxml/etree.c:107723)\u001b[0;34m()\u001b[0m\n",
      "\u001b[0;32msrc/lxml/parser.pxi\u001b[0m in \u001b[0;36mlxml.etree._handleParseResult (src/lxml/etree.c:109432)\u001b[0;34m()\u001b[0m\n",
      "\u001b[0;32msrc/lxml/parser.pxi\u001b[0m in \u001b[0;36mlxml.etree._raiseParseError (src/lxml/etree.c:108243)\u001b[0;34m()\u001b[0m\n",
      "\u001b[0;31mOSError\u001b[0m: Error reading file '1a9n.xml': failed to load external entity \"1a9n.xml\""
     ]
    }
   ],
   "source": [
    "# Function calls\n",
    "\n",
    "x_coord,y_coord,z_coord,asym_id,atom_id,comp_id,seq_id,indexes = readPdbxml('1a9n.xml')\n",
    "seq_data = seq_dict(seq_id,x_coord,y_coord,z_coord,indexes)\n",
    "dict_ndarr_seq = lists_to_ndarrays(seq_data)\n",
    "dict_min_pairwise_atom_dist = closest_atoms_dict(dict_ndarr_seq)"
   ]
  },
  {
   "cell_type": "code",
   "execution_count": 8,
   "metadata": {},
   "outputs": [
    {
     "ename": "NameError",
     "evalue": "name 'dict_min_pairwise_atom_dist' is not defined",
     "output_type": "error",
     "traceback": [
      "\u001b[0;31m---------------------------------------------------------------------------\u001b[0m",
      "\u001b[0;31mNameError\u001b[0m                                 Traceback (most recent call last)",
      "\u001b[0;32m<ipython-input-8-4291a85b3034>\u001b[0m in \u001b[0;36m<module>\u001b[0;34m()\u001b[0m\n\u001b[0;32m----> 1\u001b[0;31m \u001b[0mdict_min_pairwise_atom_dist\u001b[0m\u001b[0;34m\u001b[0m\u001b[0m\n\u001b[0m",
      "\u001b[0;31mNameError\u001b[0m: name 'dict_min_pairwise_atom_dist' is not defined"
     ]
    }
   ],
   "source": [
    "dict_min_pairwise_atom_dist"
   ]
  },
  {
   "cell_type": "code",
   "execution_count": null,
   "metadata": {
    "collapsed": true
   },
   "outputs": [],
   "source": []
  }
 ],
 "metadata": {
  "kernelspec": {
   "display_name": "Python 3",
   "language": "python",
   "name": "python3"
  },
  "language_info": {
   "codemirror_mode": {
    "name": "ipython",
    "version": 3
   },
   "file_extension": ".py",
   "mimetype": "text/x-python",
   "name": "python",
   "nbconvert_exporter": "python",
   "pygments_lexer": "ipython3",
   "version": "3.6.3"
  }
 },
 "nbformat": 4,
 "nbformat_minor": 2
}
