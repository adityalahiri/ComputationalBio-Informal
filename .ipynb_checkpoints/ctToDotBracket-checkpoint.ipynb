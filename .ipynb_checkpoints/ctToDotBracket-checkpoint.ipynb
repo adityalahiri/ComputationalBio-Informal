{
 "cells": [
  {
   "cell_type": "code",
   "execution_count": null,
   "metadata": {
    "collapsed": true
   },
   "outputs": [],
   "source": [
    "#attempting to convert CT to dot bracket"
   ]
  },
  {
   "cell_type": "code",
   "execution_count": 1,
   "metadata": {
    "collapsed": true
   },
   "outputs": [],
   "source": [
    "import re"
   ]
  },
  {
   "cell_type": "code",
   "execution_count": 2,
   "metadata": {
    "collapsed": true
   },
   "outputs": [],
   "source": [
    "'''Function takes in a .ct file, parses through it and returns the seq_length along\n",
    "with 3 lists. List 1 has all bases, List2 has all starting index, List3 has corresponding\n",
    "pair index for the corresponding base.'''\n",
    "\n",
    "def ct_parser(filename):\n",
    "    with open(filename, encoding=\"utf-8\") as file:\n",
    "        all_lines = file.readlines() #read the whole ct file\n",
    "        all_lines.pop(0) #removing the first line that gives energy etc\n",
    "        all_lines.pop() #removing last line as it doesn't have base\n",
    "        seq_len = len(all_lines)\n",
    "        base = []\n",
    "        col_1 = []\n",
    "        col_2 = []\n",
    "        for each_line in all_lines: #processing each line\n",
    "            temp = re.sub(\"\\s\\s+\" , \" \", each_line) #substituting multiple spaces with one for uniformity\n",
    "            each_col = temp.split(' ') #splitting on that space\n",
    "            base.append(each_col[2]) #selecting the useful columns\n",
    "            col_1.append(int(each_col[1]))\n",
    "            col_2.append(int(each_col[5]))\n",
    "        \n",
    "        return seq_len, base, col_1, col_2\n",
    "             "
   ]
  },
  {
   "cell_type": "code",
   "execution_count": 3,
   "metadata": {
    "collapsed": true
   },
   "outputs": [],
   "source": [
    "length_seq, base, col_1, col_2 = ct_parser(\"2AZX.ct\")\n"
   ]
  },
  {
   "cell_type": "code",
   "execution_count": 4,
   "metadata": {},
   "outputs": [
    {
     "data": {
      "text/plain": [
       "'if element in c2 is 0 let go, and pop corresonding index in c1.\\nif non zero then put a ( in corresponding index of c2 and a ( in the index of value of c1 \\nof corresponding position and pop that value from c2'"
      ]
     },
     "execution_count": 4,
     "metadata": {},
     "output_type": "execute_result"
    }
   ],
   "source": [
    "'''if element in c2 is 0 let go, and pop corresonding index in c1.\n",
    "if non zero then put a ( in corresponding index of c2 and a ( in the index of value of c1 \n",
    "of corresponding position and pop that value from c2'''"
   ]
  },
  {
   "cell_type": "code",
   "execution_count": 6,
   "metadata": {},
   "outputs": [],
   "source": [
    "dot_bracket_seq = [\".\"] * length_seq #generating the dummy seq of required length.\n",
    "\n",
    "def generate_seq(col_1, col_2):\n",
    "    for i in col_1:\n",
    "        i = int(i)\n",
    "        if(col_2[i - 1] == 0):\n",
    "            pass\n",
    "        else:\n",
    "            dot_bracket_seq[i - 1] = \"(\"\n",
    "            dot_bracket_seq[col_2[i -1] - 1] = \")\"\n",
    "            col_1.pop(col_2[i -1] - 1)\n",
    "    \n",
    "    return dot_bracket_seq\n",
    "            \n",
    "    "
   ]
  },
  {
   "cell_type": "code",
   "execution_count": 7,
   "metadata": {},
   "outputs": [
    {
     "name": "stdout",
     "output_type": "stream",
     "text": [
      "['G', 'A', 'C', 'C', 'U', 'C', 'G', 'U', 'G', 'G', 'C', 'G', 'C', 'A', 'A', 'U', 'G', 'G', 'U', 'A', 'G', 'C', 'G', 'C', 'G', 'U', 'C', 'U', 'G', 'A', 'C', 'U', 'C', 'C', 'A', 'G', 'A', 'U', 'C', 'A', 'G', 'A', 'A', 'G', 'G', 'U', 'U', 'G', 'C', 'G', 'U', 'G', 'U', 'U', 'C', 'G', 'A', 'A', 'U', 'C', 'A', 'C', 'G', 'U', 'C', 'G', 'G', 'G', 'G', 'U', 'C']\n",
      "['(', '(', '(', '(', '(', '(', '(', '.', '.', '(', '(', '(', '.', '.', '.', '(', '(', '(', '.', '.', '(', '(', '(', '(', '.', '(', '(', '(', '(', '(', '.', '.', '.', '.', '.', '.', '.', ')', ')', ')', ')', ')', '.', '.', '.', '.', '.', ')', ')', ')', ')', '.', '.', ')', ')', ')', '.', '.', '.', '.', '.', ')', ')', ')', ')', ')', ')', ')', ')', ')', ')']\n"
     ]
    }
   ],
   "source": [
    "print(base)\n",
    "print(generate_seq(col_1,col_2))"
   ]
  },
  {
   "cell_type": "code",
   "execution_count": null,
   "metadata": {
    "collapsed": true
   },
   "outputs": [],
   "source": []
  }
 ],
 "metadata": {
  "kernelspec": {
   "display_name": "Python 3",
   "language": "python",
   "name": "python3"
  },
  "language_info": {
   "codemirror_mode": {
    "name": "ipython",
    "version": 3
   },
   "file_extension": ".py",
   "mimetype": "text/x-python",
   "name": "python",
   "nbconvert_exporter": "python",
   "pygments_lexer": "ipython3",
   "version": "3.6.1"
  }
 },
 "nbformat": 4,
 "nbformat_minor": 2
}
