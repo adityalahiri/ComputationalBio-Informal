{
 "cells": [
  {
   "cell_type": "code",
   "execution_count": 1,
   "metadata": {},
   "outputs": [
    {
     "data": {
      "text/plain": [
       "'Trying to create a general modular function that takes a segement of the input sequence\\nand tells number of nodes in it.'"
      ]
     },
     "execution_count": 1,
     "metadata": {},
     "output_type": "execute_result"
    }
   ],
   "source": [
    "'''Trying to create a general modular function that takes a segement of the input sequence\n",
    "and tells number of nodes in it.'''"
   ]
  },
  {
   "cell_type": "code",
   "execution_count": 2,
   "metadata": {},
   "outputs": [
    {
     "data": {
      "text/plain": [
       "'A segement is ((.()..)) set. A sequence may have many of these.'"
      ]
     },
     "execution_count": 2,
     "metadata": {},
     "output_type": "execute_result"
    }
   ],
   "source": [
    "'''A segement is ((.()..)) set. A sequence may have many of these.'''"
   ]
  },
  {
   "cell_type": "code",
   "execution_count": 3,
   "metadata": {
    "collapsed": true
   },
   "outputs": [],
   "source": [
    "input = '((((...)))).......(((((((.(.((((....)))).)...)))))))....((((((..........((((((......((((((....)))))).......))))))..))))))'"
   ]
  },
  {
   "cell_type": "code",
   "execution_count": 4,
   "metadata": {
    "collapsed": true
   },
   "outputs": [],
   "source": [
    "# this input 3B4A_B has 3 segments by our definition"
   ]
  },
  {
   "cell_type": "code",
   "execution_count": 5,
   "metadata": {
    "collapsed": true
   },
   "outputs": [],
   "source": [
    "# To separate different segments\n",
    "\n",
    "def sep_seg(seq):\n",
    "    \n",
    "    number_open = 0\n",
    "    flag = 0\n",
    "    each_seg = []\n",
    "    master_list = []\n",
    "    \n",
    "    for i,each_char in enumerate(seq):\n",
    "        \n",
    "        if(each_char == '('):\n",
    "            number_open+=1\n",
    "            each_seg.append(each_char)\n",
    "        elif(each_char == ')'):\n",
    "            number_open-=1\n",
    "            each_seg.append(each_char)\n",
    "        elif(each_char == '.' and number_open != 0):\n",
    "            each_seg.append(each_char)\n",
    "        else:\n",
    "            each_seg.append(each_char)\n",
    "            if(i != len(seq) - 1):\n",
    "                if(seq[i+1] != '.'):\n",
    "                    flag = 1\n",
    "            \n",
    "        if((number_open == 0 and flag) or (i == len(seq) - 1) ):\n",
    "            master_list.append(each_seg)\n",
    "            each_seg = []\n",
    "            flag = 0\n",
    "\n",
    "    return master_list\n",
    "\n",
    "    "
   ]
  },
  {
   "cell_type": "code",
   "execution_count": 22,
   "metadata": {
    "collapsed": true
   },
   "outputs": [],
   "source": [
    "'''This function takes in a segment and returns the number of nodes in it.'''\n",
    "\n",
    "def nodes_in_segment(seg):\n",
    "    node_seg_open = 0 # number of nodes if . followed by ( logic is used\n",
    "    node_seg_closed = 0 # number of nodes if ) followed by . logic is used\n",
    "    node_seg = 0 # final number of nodes which is max of node_seg_open and node_seg_closed\n",
    "    \n",
    "    # Using logic for open brackets\n",
    "    \n",
    "    for i in range(len(seg) -1 ):\n",
    "        if(seg[i] == '.' and seg[i+1] == '('): \n",
    "            node_seg_open+=1\n",
    "    \n",
    "    # Using logic for closed brackets\n",
    "    \n",
    "    for i in range(len(seg) -1 ):\n",
    "        if(seg[i] == ')' and seg[i+1] == '.'): \n",
    "            node_seg_closed+=1\n",
    "    \n",
    "    node_seg = max(node_seg_open, node_seg_closed)\n",
    "    \n",
    "    node_seg+=1\n",
    "    \n",
    "    return node_seg"
   ]
  },
  {
   "cell_type": "code",
   "execution_count": 23,
   "metadata": {
    "collapsed": true
   },
   "outputs": [],
   "source": [
    "'''Parent function. This takes input sequence. It then calls sep_seg to get all the\n",
    "individual segements. It then sends each segment to nodes_in_segment and finally gives\n",
    "the total number of nodes in the entire input sequence'''\n",
    "\n",
    "def find_total_nodes(input):\n",
    "    total_nodes = 0\n",
    "    \n",
    "    all_segments = sep_seg(input)\n",
    "    \n",
    "    for each_seg in all_segments:\n",
    "        \n",
    "        each_seg.insert(0,'.') # appending a . at the beginning of seq to be consisitent with\n",
    "        # my algo and to count the initial starting part as a node. Even if there is a . in \n",
    "        # the beginning from before this does no harm\n",
    "        \n",
    "        each_seg.append('.') # similar logic as above statement but for the last node\n",
    "        \n",
    "        total_nodes = total_nodes + nodes_in_segment(each_seg)\n",
    "        #print(total_nodes)\n",
    "    \n",
    "    return total_nodes"
   ]
  },
  {
   "cell_type": "code",
   "execution_count": 26,
   "metadata": {},
   "outputs": [
    {
     "data": {
      "text/plain": [
       "6"
      ]
     },
     "execution_count": 26,
     "metadata": {},
     "output_type": "execute_result"
    }
   ],
   "source": [
    "find_total_nodes('(((((((..(((...(((..((((.(((((.......))))).....))))..))).....)))))))))).')"
   ]
  },
  {
   "cell_type": "code",
   "execution_count": null,
   "metadata": {
    "collapsed": true
   },
   "outputs": [],
   "source": []
  }
 ],
 "metadata": {
  "kernelspec": {
   "display_name": "Python 3",
   "language": "python",
   "name": "python3"
  },
  "language_info": {
   "codemirror_mode": {
    "name": "ipython",
    "version": 3
   },
   "file_extension": ".py",
   "mimetype": "text/x-python",
   "name": "python",
   "nbconvert_exporter": "python",
   "pygments_lexer": "ipython3",
   "version": "3.6.1"
  }
 },
 "nbformat": 4,
 "nbformat_minor": 2
}
