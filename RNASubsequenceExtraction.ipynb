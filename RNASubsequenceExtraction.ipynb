{
 "cells": [
  {
   "cell_type": "code",
   "execution_count": 1,
   "metadata": {},
   "outputs": [
    {
     "data": {
      "text/plain": [
       "'This module attempts to find all instances of matching sequences that start and end with\\ngiven strings. It then writes them out in a separate file with the identity of the corresponding\\nelement'"
      ]
     },
     "execution_count": 1,
     "metadata": {},
     "output_type": "execute_result"
    }
   ],
   "source": [
    "'''This module attempts to find all instances of matching sequences that start and end with\n",
    "given strings. It then writes them out in a separate file with the identity of the corresponding\n",
    "element'''"
   ]
  },
  {
   "cell_type": "code",
   "execution_count": 1,
   "metadata": {
    "collapsed": true
   },
   "outputs": [],
   "source": [
    "import re # Will use the inbuilt regex module to find subsequences later on"
   ]
  },
  {
   "cell_type": "code",
   "execution_count": 2,
   "metadata": {
    "collapsed": true
   },
   "outputs": [],
   "source": [
    "'''Preprocessing file.\n",
    "This method takes in the given file name and a string to split on.It then preprocesses \n",
    "the content of the file so that it can be used in the function find_subsequence()'''\n",
    "\n",
    "def preprocess_seqfile(filename,split_on):\n",
    "    after_preprocessing = [] # initialising an empty list after_preprocessing\n",
    "    with open(filename) as file: # opening the required file\n",
    "        contents = file.read()  # reading the file at once\n",
    "        contents = contents.replace('\\n','')  # Replacing all new lines with nothing.\n",
    "        for entry in contents.split(split_on): # Splits on the given parameter such as > or ACCESSION :\n",
    "            after_preprocessing.append(entry)\n",
    "    return after_preprocessing    "
   ]
  },
  {
   "cell_type": "code",
   "execution_count": 3,
   "metadata": {
    "collapsed": true
   },
   "outputs": [],
   "source": [
    "'''Finding the subsequence.\n",
    "This method takes in the preprocessed file returned from preprocess_seqfile() method.\n",
    "It also takes in starting and ending character sequences. The function returns two lists.\n",
    "One containing the identities of the processed elements. Other containing corresponding\n",
    "sequences matches.'''\n",
    "\n",
    "def find_subsequence(preprocessed_file, starting_seq, ending_seq):\n",
    "    matching_subsequences = [] # initialsing an empty list that will eventually store the substring matches\n",
    "    identity_element = [] # initialsing an empty list that will eventually store the ID of the element corresponding to the substring\n",
    "    \n",
    "    my_regex = starting_seq + r\"(.*?)\" + ending_seq # creating a custom regular expression to help find subsequence\n",
    "\n",
    "\n",
    "    for each_string in preprocessed_file: # processing each element in the preprocessed file.\n",
    "        identity_element.append(each_string[:8]) # taking out the first 8 characters out of each string that contains ID and appending to identity_element.\n",
    "        temp = re.findall(my_regex,each_string) # finding all substrings that begin with starting_seq and end with ending_seq\n",
    "        temp_string = \"\".join(str(x) for x in temp) # converting the list returned by findall to a string.\n",
    "        final_string = starting_seq  + temp_string # concatenating the starting sequence to the temp_string and storing as final_string\n",
    "        matching_subsequences.append(final_string) # appending the final_string to the output list.\n",
    "        \n",
    "    return identity_element, matching_subsequences\n",
    "    "
   ]
  },
  {
   "cell_type": "code",
   "execution_count": 5,
   "metadata": {},
   "outputs": [],
   "source": [
    "'''This function takes the list of identities and corresponding matching substrings obtained\n",
    "after passing the file through the first two methods.\n",
    "It prints each identity followed by each match'''\n",
    "\n",
    "def display_matches(identity, sequences):\n",
    "    for i in range(len(identity)):\n",
    "        print(identity[i]) # printing the identity of each element\n",
    "        print(sequences[i]) # printing the matching substring sequence, if any.\n",
    "    "
   ]
  },
  {
   "cell_type": "code",
   "execution_count": 6,
   "metadata": {},
   "outputs": [
    {
     "name": "stdout",
     "output_type": "stream",
     "text": [
      "\n",
      "MNNQR\n",
      "AF022437\n",
      "MNNQRKKAKNTPFNMLKRERNRVSTVQQLTKRFSLGMLQGRGPLKLFMALVAFLRFLTIPPTAGILKRWGTIKKSKAINVLRGFRKEIGRMLNILNRRRRSAGMIIMLIPTVMAFHLTTRNGEPHMIVSRQEKGKSLLFKTEDGVNMCTLMAMDLGELCEDTITYKCPLLRQNEPEDIDCWCNSTSTWVTYGTCATTGEHRREKRSVALVPHVGMGLETRTETWMSSEGAWKHAQRIETWIL\n",
      "AF022440\n",
      "MNNQRKKAKNTPFNMLKRERNRVSTVQQLTKRFSLGMLQGRGPLKLFMALVAFLRFLTIPPTAGILKRWGTIKKSKAINVLRGFRKEIGRMLNILNRRRRSAGMIIMLIPTVMAFHLTTRNGEPHMIVSIQEKGKSLLFKTEDGVNMCTLMAMDLGELCEDTITYKCPLLRQNEPEDIDCWCNSTSTWVTYGTCTTTGEHRREKRSVALVPHVGMGLETRTETWMSSEGAWKHAQRIETWIL\n",
      "AF022441\n",
      "MNNQRKKAKNTPFNMLKRERNRVSTVQQLTKRFSLGMLQGRGPLKLFMALVAFLRFLTIPPTAGILKRWGTIKKSKAINVLRGFRKEIGRMLNILNRRRRSAGMIIMLIPTVMAFHLTTRNGEPHMIVSIQEKGKSLLFKTEDGVNMCTLMAMDLGELCEDTITYKCPLLRQNEPEDIDCWCNSTSTWVTYGTCTTTGEHRREKRSVALVPHVGMGLETRTETWMSSEGAWKHAQRIETWIL\n",
      "AF022439\n",
      "MNNQRKKAKNTPFNMLKRERNRVSTVQQLTKRFSLGMLQGRGPLKLFMALVAFLRFLTIPPTAGILKRWGTIKKSKAINVLRGFRKEIGRMLNILNRRRRSAGMIIMLIPTVMAFHLTTRNGEPHMIVSRQEKGKSLLFKTEDGVNMCTLMAMDLGELCEDTITYKCPLLRQNEPEDIDCWCNSTSTWVTYGTCATTGEHRREKRSVALVPHVGMGLETRTETWMSSEGAWKHAQRIETWIL\n",
      "AF022438\n",
      "MNNQRKKAKNTPFNMLKRERNRVSTVQQLTKRFSLGMLQGRGPLKLFMALVAFLRFLTIPPTAGILKRWGTIKKSKAINVLRGFRKEIGRMLNILNRRRRSAGMIIMLIPTVMAFHLTTRNGEPHMIVSRQEKGKSLLFKTEDGVNMCTLMAMDLGELCEDTITYKCPLLRQNEPEDIDCWCNSTSTWVTYGTCATTGEHRREKRSVALVPHVGMGLETRTETWMSSEGAWKHAQRIETWIL\n",
      "DQ181802\n",
      "MNNQRKKAKNTPFNMLKRERNRVSTVQQLTKRFSLGMLQGRGPLKLFMALVAFLRFLTIPPTAGILKRWGTIKKSKAINVLRGFRKEIGRMLNILNRRRRSAGMIIMLIPTVMAFHLTTRNGEPHMIVSIQEKGKSLLFKTEDGVNMCTLMAMDLGELCEDTITYKCPLLRQNEPEDIDCWCNSTSTWVTYGTCTTTGEHRREKRSVALVPHVGMGLETRTETWMSSEGAWKHAQRIETWIL\n",
      "DQ181801\n",
      "MNNQRKKARSTPFNMLKRERNRVSTVQQLTKRFSLGMLQGRGPLKLFMALVAFLRFLTIPPTAGILKRWGTIKKSKAINVLRGFRKEIGRMLNILNRRRRTAGVIVMLIPTAMAFHLTTRDGEPHMIVGRQEKGKSLLFKTEDGVNMCTLMAIDLGELCEDTITYKCPLLRQNEPEDIDCWCNSTSTWVTYGTCTTTGEHRREKRSVALVPHVGMGLETRTETWMSSEGAWKHVQRIETWIL\n",
      "DQ181800\n",
      "MNNQRKKAKNTPFNMLKRERNRVSTVQQLTKRFSLGMLQGRGPLKLFMALVAFLRFLTIPPTAGILKRWGTIKKSKAINVLRGFRKEIGRMLNILNRRRRSVGMIIMLIPTVMAFHLTTRNGEPHMIVSIQEKGKSLLFKTEDGVNMCTLMAMDLGELCEDTITYKCPLLRQNEPEDIDCWCNSTSTWVTYGTCTTTGEHRREKRSVALVPHVGMGLETRTETWMSSEGAWKHAQRIETWIL\n",
      "DQ181799\n",
      "MNNQRKKAKNAPFNMLKRERNRVSTVQQLTKRFSLGMLQGRGPLKLFMALVAFLRFLTIPPTAGILKRWGTIKKSKAINVLRGFRKEIGRMLNILNRRRRSAGMIIMLIPTVMAFHLTTRNGEPHMIVSMQEKGKSLLFKTEDGVNMCTLMAMDLGELCEDTITYKCPLLRQNEPEDIDCWCNSTSTWVTYGTCTTTGEHRREKRSVALVPHVGMGLETRTETWMSSEGAWKHAQRIETWIL\n",
      "DQ181798\n",
      "MNNQRKKAKNTPFNMLKRERNRVSTVQQLTKRFSLGMLQGRGPLKLFMALVAFLRFLTIPPTAGILKRWGTIKKSKAINVLRGFRKEIGRMLNILNRRRRSAGMIIMLIPTVMAFHLTTRNGEPHMIVSIQEKGKSLLFKTEDGVNMCTLMAMDLGELCEDTITYKCPLLRQNEPEDIDCWCNSTSTWVTYGTCTTTGEHRREKRSVALVPHVGMGLETRTETWMSSEGAWKHAQRIETWIL\n",
      "AF204178\n",
      "MNNQRKKARNTPFNMLKRERNRVSTVQQLTKRFSLGMLQGRGPLKLFMALVAFLRFLTIPPTAGILKRWGTIKKSKAINVLRGFRKEIGRMLNILNRRRRTAGMIIMLIPTVMAFHLTTRNGEPHMIVSRQEKGKSLLFKTGDGVNMCTLMAMDPGELCEDTITYKCPLLKQNEPEDIDWWCNSTSTWVTYGTCTTTGEHRREKRSVALVPHVGMGLETRTETWMSSEGAWKHAQRIETWIL\n",
      "AF204177\n",
      "MNNQRKKARNTPFNMLKRERNRVSTVQQLTKRFSLGMLQGRGPLKLFTALVAFLRFLTIPPTAGILKRWGTIKKSKAINVLRGFRKEIGRMLNILNRRRRTAGMIIMLIPTVMAFHLTTRNGEPHMIVSRQEKGKSLLFKTGDGVNMCTLMAMDLGELCEDTITYKCPLLRQNEPEDIDCWCNSTSTWVTYGTCTTTGEHRREKRSVALVPHVGMGLETRTETWMSSEGAWKHAQRIETWIL\n",
      "AY702036\n",
      "MNNQRKKARSTPFNMLKRERNRVSTVQQLTKRFSLGMLQGRGPLKLFMALVAFLRFLTIPPTAGILKRWGTIKKSKAINVLRGFRKEIGRMLNILNRRRRTAGVIVMLIPTAMAFHLTTRNGEPHMIVGRQEKGKSLLFKTEDGVNMCTLMAIDLGELCEDTITYKCPLLRQNEPEDIDCWCNSTSTWVTYGTCTTTGEHRREKRSVALVPHVGMGLETRTETWMSSEGAWKHVQRIETWIL\n",
      "AY702035\n",
      "MNNQRKKARSTPFNMLKRERNRVSTVQQLTKRFSLGMLQGRGPLKLFMALVAFLRFLTIPPTAGILKRWGTIKKSKAINVLRGFRKEIGRMLNILNRRRRTAGVIVMLIPTAMAFHLTTRNGEPHMIVGRQEKGKSLLFKTEDGVNMCTLMAIDLGELCEDTITYKCPLLRQNEPEDIDCWCNSTSTWVTYGTCTTTGEHRREKRSVALVPHVGMGLETRTETWMSSEGAWKHVQRIETWIL\n",
      "AY702034\n",
      "MNNQRKKARSTPFNMLKRERNRVSTVQQLTKRFSLGMLQGRGPLKLFMALVAFLRFLTIPPTAGILKRWGTIKKSKAINVLRGFRKEIGRMLNILNRRRRTAGVIVMLIPTAMAFHLTTRNGEPHMIVGRQEKGKSLLFKTEDGVNMCTLMAIDLGELCEDTITYKCPLLRQNEPEDIDCWCNSTSTWVTYGTCTTTGEHRREKRSVALVPHVGMGLETRTETWMSSEGAWKHVQRIETWIL\n",
      "AB189123\n",
      "MNNQRKKARNTPFNMLKRERNRVSTVQQLTKRFSLGMLQGRGPLKLFMALVAFLRFLTIPPTAGILKRWGTIKKSKAINVLRGFRKEIGRMLNILNRRRRTAGVIIMMIPTVMAFHLTTRNGEPHMIVSRQEKGKSLLFKTENGVNMCTLMAMDLGELCEDTITYNCPLLRQNEPEDIDCWCNSTSTWVTYGTCTATGEHRREKRSVALAPHVGMGLETRTETWMSSEGAWKHAQRIETWVL\n"
     ]
    }
   ],
   "source": [
    "'''Method calls.\n",
    "Calling all methods in correct order with appropriate parameters.'''\n",
    "\n",
    "preprocessed = preprocess_seqfile(\"DENV 2_CDS_DF.txt\",'ACCESSION: ')\n",
    "identity, sequences = find_subsequence(preprocessed, \"MNNQR\", \"RHPGF\")\n",
    "display_matches(identity, sequences)"
   ]
  },
  {
   "cell_type": "code",
   "execution_count": null,
   "metadata": {
    "collapsed": true
   },
   "outputs": [],
   "source": []
  }
 ],
 "metadata": {
  "kernelspec": {
   "display_name": "Python 3",
   "language": "python",
   "name": "python3"
  },
  "language_info": {
   "codemirror_mode": {
    "name": "ipython",
    "version": 3
   },
   "file_extension": ".py",
   "mimetype": "text/x-python",
   "name": "python",
   "nbconvert_exporter": "python",
   "pygments_lexer": "ipython3",
   "version": "3.6.1"
  }
 },
 "nbformat": 4,
 "nbformat_minor": 2
}
